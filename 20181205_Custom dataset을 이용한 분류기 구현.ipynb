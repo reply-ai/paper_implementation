{
 "cells": [
  {
   "cell_type": "markdown",
   "metadata": {},
   "source": [
    "# Multi-layer Perceptron (CUSTOM)"
   ]
  },
  {
   "cell_type": "code",
   "execution_count": 1,
   "metadata": {},
   "outputs": [
    {
     "name": "stdout",
     "output_type": "stream",
     "text": [
      "CURRENT TF VERSION IS [1.12.0]\n",
      "PACKAGES LOADED\n"
     ]
    }
   ],
   "source": [
    "import os\n",
    "import numpy as np\n",
    "import tensorflow as tf\n",
    "import matplotlib.pyplot as plt\n",
    "from tensorflow.examples.tutorials.mnist import input_data\n",
    "\n",
    "%matplotlib inline\n",
    "\n",
    "os.environ[\"CUDA_VISIBLE_DEVICES\"] = \"1\"\n",
    "\n",
    "print(\"CURRENT TF VERSION IS [%s]\" % (tf.__version__))\n",
    "print(\"PACKAGES LOADED\")"
   ]
  },
  {
   "cell_type": "markdown",
   "metadata": {},
   "source": [
    "## Load dataset"
   ]
  },
  {
   "cell_type": "code",
   "execution_count": 2,
   "metadata": {},
   "outputs": [
    {
     "name": "stdout",
     "output_type": "stream",
     "text": [
      "Dataset loading from /home/jwserver/문서/Files/shape_classification/data/shape_images_gray.npz\n",
      "['trainimg', 'trainlabel', 'testimg', 'testlabel', 'imgsize', 'use_gray', 'categories']\n"
     ]
    }
   ],
   "source": [
    "# Load\n",
    "cwd = os.getcwd()\n",
    "data_name = \"shape_images\"\n",
    "use_gray = 1\n",
    "\n",
    "if use_gray:\n",
    "    loadpath = cwd + \"/data/\" + data_name + \"_gray.npz\"\n",
    "else:\n",
    "    loadpath = cwd + \"/data/\" + data_name + \"_rgb.npz\"\n",
    "print(\"Dataset loading from %s\" % (loadpath))\n",
    "\n",
    "shape_images = np.load(loadpath)\n",
    "print(shape_images.files)"
   ]
  },
  {
   "cell_type": "code",
   "execution_count": 3,
   "metadata": {},
   "outputs": [],
   "source": [
    "# Parse data\n",
    "trainimg = shape_images['trainimg']\n",
    "trainlabel = shape_images['trainlabel']\n",
    "testimg = shape_images['testimg']\n",
    "testlabel = shape_images['testlabel']\n",
    "imgsize = shape_images['imgsize']\n",
    "categories = shape_images['categories']\n",
    "use_gray = shape_images['use_gray']\n",
    "\n",
    "if use_gray:\n",
    "    num_ch = 1\n",
    "else:\n",
    "    num_ch = 3"
   ]
  },
  {
   "cell_type": "code",
   "execution_count": 4,
   "metadata": {},
   "outputs": [
    {
     "name": "stdout",
     "output_type": "stream",
     "text": [
      "8982 TRAIN IMAGES\n",
      "5988 TEST IMAGES\n",
      "4096 DIMENSIONAL INPUT\n",
      "4 CLASSES\n",
      "[64 64]\n",
      "['circle' 'square' 'star' 'triangle']\n"
     ]
    }
   ],
   "source": [
    "# Details\n",
    "ntrain = trainimg.shape[0]\n",
    "ntest = testimg.shape[0]\n",
    "nclass = trainlabel.shape[1]\n",
    "dim = trainimg.shape[1]\n",
    "\n",
    "print(\"%d TRAIN IMAGES\" % (ntrain))\n",
    "print(\"%d TEST IMAGES\" % (ntest))\n",
    "print(\"%d DIMENSIONAL INPUT\" % (dim))\n",
    "print(\"%d CLASSES\" % (nclass))\n",
    "print(imgsize)\n",
    "print(categories)"
   ]
  },
  {
   "cell_type": "markdown",
   "metadata": {},
   "source": [
    "## Define Model"
   ]
  },
  {
   "cell_type": "code",
   "execution_count": 6,
   "metadata": {},
   "outputs": [
    {
     "name": "stdout",
     "output_type": "stream",
     "text": [
      "NETWORK READY\n"
     ]
    }
   ],
   "source": [
    "# Network Topologies\n",
    "n_input = dim\n",
    "n_hidden_1 = 256\n",
    "n_hidden_2 = 128\n",
    "n_classes = nclass\n",
    "\n",
    "# Inputs and Outputs\n",
    "x = tf.placeholder(\"float\", [None, n_input])\n",
    "y = tf.placeholder(\"float\", [None, n_classes])\n",
    "\n",
    "# Network Parameters\n",
    "stddev = 0.1\n",
    "weights = {\n",
    "    'h1': tf.Variable(tf.random_normal([n_input, n_hidden_1], stddev=stddev)),\n",
    "    'h2': tf.Variable(tf.random_normal([n_hidden_1, n_hidden_2], stddev=stddev)),\n",
    "    'out': tf.Variable(tf.random_normal([n_hidden_2, n_classes], stddev=stddev))\n",
    "}\n",
    "biases = {\n",
    "    'b1': tf.Variable(tf.random_normal([n_hidden_1])),\n",
    "    'b2': tf.Variable(tf.random_normal([n_hidden_2])),\n",
    "    'out': tf.Variable(tf.random_normal([n_classes]))\n",
    "}\n",
    "\n",
    "print(\"NETWORK READY\")"
   ]
  },
  {
   "cell_type": "markdown",
   "metadata": {},
   "source": [
    "## Define Graph"
   ]
  },
  {
   "cell_type": "code",
   "execution_count": 7,
   "metadata": {},
   "outputs": [
    {
     "name": "stdout",
     "output_type": "stream",
     "text": [
      "WARNING:tensorflow:From <ipython-input-7-870080203c5e>:11: softmax_cross_entropy_with_logits (from tensorflow.python.ops.nn_ops) is deprecated and will be removed in a future version.\n",
      "Instructions for updating:\n",
      "\n",
      "Future major versions of TensorFlow will allow gradients to flow\n",
      "into the labels input on backprop by default.\n",
      "\n",
      "See `tf.nn.softmax_cross_entropy_with_logits_v2`.\n",
      "\n",
      "FUNCTIONS READY\n"
     ]
    }
   ],
   "source": [
    "# Model\n",
    "def multilayer_perceptron(_X, _weights, _biases):\n",
    "    layer_1 = tf.nn.sigmoid(tf.add(tf.matmul(_X, _weights['h1']), _biases['b1']))\n",
    "    layer_2 = tf.nn.sigmoid(tf.add(tf.matmul(layer_1, _weights['h2']), _biases['b2']))\n",
    "    return tf.matmul(layer_2, _weights['out']) + _biases['out']\n",
    "\n",
    "# Prediction\n",
    "pred = multilayer_perceptron(x, weights, biases)\n",
    "\n",
    "# Loss and Optimization\n",
    "cost = tf.reduce_mean(tf.nn.softmax_cross_entropy_with_logits(labels=y, logits=pred))\n",
    "optm = tf.train.AdamOptimizer(learning_rate=0.001).minimize(cost)\n",
    "corr = tf.equal(tf.argmax(pred, 1), tf.argmax(y, 1))\n",
    "accr = tf.reduce_mean(tf.cast(corr, \"float\"))\n",
    "\n",
    "# Initializer\n",
    "init = tf.global_variables_initializer()\n",
    "print(\"FUNCTIONS READY\")"
   ]
  },
  {
   "cell_type": "markdown",
   "metadata": {},
   "source": [
    "## RUN"
   ]
  },
  {
   "cell_type": "code",
   "execution_count": 18,
   "metadata": {},
   "outputs": [
    {
     "name": "stdout",
     "output_type": "stream",
     "text": [
      "Epoch: 010/050 cost: 0.007301500\n",
      " TRAIN ACCURACY : 1.000\n",
      "TEST ACCURACY : 0.999\n",
      "3 MISSED\n"
     ]
    },
    {
     "data": {
      "image/png": "[encoded data removed]",
      "text/plain": [
       "<Figure size 432x288 with 1 Axes>"
      ]
     },
     "metadata": {
      "needs_background": "light"
     },
     "output_type": "display_data"
    },
    {
     "data": {
      "image/png": "[encoded data removed]",
      "text/plain": [
       "<Figure size 432x288 with 1 Axes>"
      ]
     },
     "metadata": {
      "needs_background": "light"
     },
     "output_type": "display_data"
    },
    {
     "data": {
      "image/png": "[encoded data removed]",
      "text/plain": [
       "<Figure size 432x288 with 1 Axes>"
      ]
     },
     "metadata": {
      "needs_background": "light"
     },
     "output_type": "display_data"
    },
    {
     "name": "stdout",
     "output_type": "stream",
     "text": [
      "Epoch: 020/050 cost: 0.000658997\n",
      " TRAIN ACCURACY : 1.000\n",
      "TEST ACCURACY : 1.000\n",
      "0 MISSED\n",
      "Epoch: 030/050 cost: 0.000246301\n",
      " TRAIN ACCURACY : 1.000\n",
      "TEST ACCURACY : 1.000\n",
      "0 MISSED\n",
      "Epoch: 040/050 cost: 0.000125545\n",
      " TRAIN ACCURACY : 1.000\n",
      "TEST ACCURACY : 1.000\n",
      "0 MISSED\n",
      "Epoch: 050/050 cost: 0.000069166\n",
      " TRAIN ACCURACY : 1.000\n",
      "TEST ACCURACY : 1.000\n",
      "0 MISSED\n"
     ]
    }
   ],
   "source": [
    "# Hyperparameters\n",
    "training_epochs = 50\n",
    "batch_size = 100\n",
    "disp_each = 10\n",
    "plot_each = 10\n",
    "\n",
    "# Launch the Graph\n",
    "sess = tf.Session()\n",
    "sess.run(init)\n",
    "\n",
    "# Optimize\n",
    "for epoch in range(training_epochs):\n",
    "    total_batch = int(ntrain/batch_size)\n",
    "    randpermlist = np.random.permutation(ntrain)\n",
    "    sun_cost = 0.\n",
    "    \n",
    "    for i in range(total_batch):\n",
    "        randidx = randpermlist[i * batch_size: min((i+1) * batch_size, ntrain-1)]\n",
    "        batch_xs = trainimg[randidx, :]\n",
    "        batch_ys = trainlabel[randidx, :]\n",
    "        feeds = {x: batch_xs, y: batch_ys}\n",
    "        sess.run(optm, feed_dict=feeds)\n",
    "        sun_cost += sess.run(cost, feed_dict=feeds)\n",
    "    \n",
    "    avg_cost = sun_cost / total_batch\n",
    "    \n",
    "    \n",
    "    # Display\n",
    "    if (epoch+1) % disp_each == 0 or epoch == training_epochs - 1:\n",
    "        print(\"Epoch: %03d/%03d cost: %.9f\" % (epoch+1, training_epochs, avg_cost))\n",
    "        feeds = {x: batch_xs, y:batch_ys}\n",
    "        train_acc = sess.run(accr, feed_dict=feeds)\n",
    "        print (\" TRAIN ACCURACY : %.3f\" % (train_acc))\n",
    "        feeds = {x: testimg, y:testlabel}\n",
    "        test_acc = sess.run(accr, feed_dict=feeds)\n",
    "        print (\"TEST ACCURACY : %.3f\" % (test_acc))\n",
    "                 \n",
    "                 \n",
    "     # Plot\n",
    "    if (epoch+1) % plot_each == 0 or epoch == training_epochs-1:\n",
    "        ntemp = int(ntest/batch_size) + 1\n",
    "        missidxlist = []\n",
    "        for ii in range(ntemp):\n",
    "            iii = np.arange(ii*batch_size, min(ntest, (ii+1)*batch_size))\n",
    "            feeds = {x: testimg[iii, :], y: testlabel[iii, :]}\n",
    "            missidx = np.where(sess.run(corr, feed_dict=feeds) == 0)[0]\n",
    "            missidxlist = np.concatenate((missidxlist, iii[missidx]))\n",
    "        nmiss = len(missidxlist)\n",
    "        print (\"%d MISSED\" % (nmiss))\n",
    "        \n",
    "        # PLOT MISSCLASSIFIED (UPTO THREE)\n",
    "        missidxlist = np.random.permutation(missidxlist.astype(int))\n",
    "        selmissidx = missidxlist[:min(3, nmiss)].astype(int)\n",
    "        feeds_miss = {x: testimg[selmissidx, :], y: testlabel[selmissidx, :]}\n",
    "        pred_miss = sess.run(pred, feed_dict=feeds_miss)\n",
    "        answ_miss = np.argmax(pred_miss, 1)\n",
    "        answ_corr = np.argmax(testlabel[selmissidx, :] ,1)\n",
    "        \n",
    "        for idx in range(len(selmissidx)):\n",
    "            cidx = selmissidx[idx]\n",
    "            anw = answ_miss[idx]\n",
    "            ref = answ_corr[idx]\n",
    "            if use_gray != 0:\n",
    "                currimg = np.reshape(testimg[cidx, :], (imgsize[0], imgsize[1]))\n",
    "                plt.imshow(currimg, cmap='gray')\n",
    "            else :\n",
    "                currimg = np.reshape(testimg[cidx, :], (imgsize[0], imgsize[1], -1))\n",
    "                plt.imshow(currimg)\n",
    "            anw_category = categories[anw]\n",
    "            ref_category = categories[ref]\n",
    "            title_string = (\"IDX: %d CURR ANWR: [%s] TRUE LABEL: [%s]\"\n",
    "                    % (cidx, anw_category, ref_category))\n",
    "            plt.title(title_string)\n",
    "            plt.show()"
   ]
  },
  {
   "cell_type": "code",
   "execution_count": null,
   "metadata": {},
   "outputs": [],
   "source": []
  }
 ],
 "metadata": {
  "kernelspec": {
   "display_name": "Python 3",
   "language": "python",
   "name": "python3"
  },
  "language_info": {
   "codemirror_mode": {
    "name": "ipython",
    "version": 3
   },
   "file_extension": ".py",
   "mimetype": "text/x-python",
   "name": "python",
   "nbconvert_exporter": "python",
   "pygments_lexer": "ipython3",
   "version": "3.6.6"
  }
 },
 "nbformat": 4,
 "nbformat_minor": 2
}
