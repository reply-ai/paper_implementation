{
 "cells": [
  {
   "cell_type": "code",
   "execution_count": 1,
   "metadata": {
    "ExecuteTime": {
     "end_time": "2019-01-16T04:11:42.983586Z",
     "start_time": "2019-01-16T04:11:42.018188Z"
    }
   },
   "outputs": [
    {
     "name": "stdout",
     "output_type": "stream",
     "text": [
      "TENSORFLOW VERSION IS [1.12.0]\n"
     ]
    }
   ],
   "source": [
    "from __future__ import print_function\n",
    "import tensorflow as tf\n",
    "import numpy as np\n",
    "import matplotlib\n",
    "import os\n",
    "import matplotlib.pyplot as plt\n",
    "%matplotlib inline\n",
    "tf.set_random_seed(0)\n",
    "print (\"TENSORFLOW VERSION IS [%s]\" % (tf.__version__))"
   ]
  },
  {
   "cell_type": "code",
   "execution_count": 2,
   "metadata": {
    "ExecuteTime": {
     "end_time": "2019-01-16T04:14:52.945633Z",
     "start_time": "2019-01-16T04:14:52.930590Z"
    }
   },
   "outputs": [
    {
     "name": "stdout",
     "output_type": "stream",
     "text": [
      "SHAPE OF X IS (732, 5)\n",
      "SHAPE OF Y IS (732, 1)\n"
     ]
    }
   ],
   "source": [
    "# Load Dataset\n",
    "# CSV Link: https://github.com/sjchoi86/advanced-tensorflow/blob/master/basic/data/data-02-stock_daily.csv\n",
    "\n",
    "\n",
    "def MinMaxScaler(data):\n",
    "    numerator = data - np.min(data, 0)\n",
    "    denominator = np.max(data, 0) - np.min(data, 0)\n",
    "    return numerator / (denominator + 1e-7)\n",
    "\n",
    "\n",
    "xy = np.loadtxt('data/data-02-stock_daily.csv', delimiter=',')\n",
    "xy = xy[::-1]  # REVERSE ORDER (chronically ordered)\n",
    "xy = MinMaxScaler(xy)\n",
    "x = xy\n",
    "y = xy[:, [-1]]\n",
    "print(\"SHAPE OF X IS %s\" % (x.shape,))\n",
    "print(\"SHAPE OF Y IS %s\" % (y.shape,))"
   ]
  },
  {
   "cell_type": "markdown",
   "metadata": {},
   "source": [
    "- Columns: Open / High / Low / Volumn / Close\n",
    "- To predict: 'Close', given 7 previous items"
   ]
  },
  {
   "cell_type": "code",
   "execution_count": 4,
   "metadata": {
    "ExecuteTime": {
     "end_time": "2019-01-16T04:16:58.884892Z",
     "start_time": "2019-01-16T04:16:58.874137Z"
    }
   },
   "outputs": [
    {
     "name": "stdout",
     "output_type": "stream",
     "text": [
      " [INPUT]\n",
      "[[2.13751054e-01 2.08179810e-01 1.91791832e-01 4.66075110e-04\n",
      "  1.92092403e-01]\n",
      " [1.93935034e-01 2.03641926e-01 2.08664571e-01 2.98467330e-03\n",
      "  1.96551555e-01]\n",
      " [2.10516454e-01 2.05289413e-01 2.03558748e-01 2.59926504e-04\n",
      "  1.87749731e-01]\n",
      " [1.86678765e-01 2.09480567e-01 2.08781843e-01 0.00000000e+00\n",
      "  2.17448151e-01]\n",
      " [3.06973882e-01 3.14634137e-01 2.18993665e-01 1.24764722e-02\n",
      "  2.16981885e-01]\n",
      " [2.19142110e-01 2.63907214e-01 2.24686396e-01 4.56323384e-01\n",
      "  2.24967473e-01]\n",
      " [2.33129931e-01 2.36419163e-01 1.62682724e-01 5.70171193e-01\n",
      "  1.47442742e-01]] \n",
      "   =>\n",
      " [OUTPUT] \n",
      "[0.13289962]\n",
      "\n",
      "TYPE   OF    'dataX' IS [<class 'list'>].\n",
      "LENGTH OF    'dataX' IS [725].\n",
      "LENGTH OF 'dataX[0]' IS [7].\n",
      "\n",
      "TYPE   OF    'dataY' IS [<class 'list'>].\n",
      "LENGTH OF    'dataY' IS [725].\n",
      "LENGTH OF 'dataY[0]' IS [1].\n"
     ]
    }
   ],
   "source": [
    "## Build dataset\n",
    "timesteps = seq_length = 7\n",
    "data_dim  = 5\n",
    "dataX = []\n",
    "dataY = []\n",
    "for i in range(0, len(y) - seq_length):\n",
    "    _x = x[i:i + seq_length]\n",
    "    _y = y[i + seq_length]  # Next close price\n",
    "    dataX.append(_x)\n",
    "    dataY.append(_y)\n",
    "    if i == 0:\n",
    "        print(\" [INPUT]\\n%s \\n   =>\\n [OUTPUT] \\n%s\" % (_x, _y))\n",
    "print ()\n",
    "print (\"TYPE   OF    'dataX' IS [%s].\" % (type(dataX)))\n",
    "print (\"LENGTH OF    'dataX' IS [%d].\" % (len(dataX)))\n",
    "print (\"LENGTH OF 'dataX[0]' IS [%d].\" % (len(dataX[0])))\n",
    "print ()\n",
    "print (\"TYPE   OF    'dataY' IS [%s].\" % (type(dataY)))\n",
    "print (\"LENGTH OF    'dataY' IS [%d].\" % (len(dataY)))\n",
    "print (\"LENGTH OF 'dataY[0]' IS [%d].\" % (len(dataY[0])))"
   ]
  },
  {
   "cell_type": "code",
   "execution_count": 5,
   "metadata": {
    "ExecuteTime": {
     "end_time": "2019-01-16T04:17:33.623410Z",
     "start_time": "2019-01-16T04:17:33.619996Z"
    }
   },
   "outputs": [],
   "source": [
    "## Split train/test (70:30)\n",
    "def print_np(_name, _x):\n",
    "    print(\"TYPE  OF [%s] is [%s]\" % (_name, type(_x)))\n",
    "    print(\"SHAPE OF [%s] is %s\" % (_name, _x.shape,))"
   ]
  },
  {
   "cell_type": "code",
   "execution_count": 6,
   "metadata": {
    "ExecuteTime": {
     "end_time": "2019-01-16T04:17:40.126041Z",
     "start_time": "2019-01-16T04:17:40.117837Z"
    }
   },
   "outputs": [
    {
     "name": "stdout",
     "output_type": "stream",
     "text": [
      "TYPE  OF [trainX] is [<class 'numpy.ndarray'>]\n",
      "SHAPE OF [trainX] is (507, 7, 5)\n",
      "TYPE  OF [trainY] is [<class 'numpy.ndarray'>]\n",
      "SHAPE OF [trainY] is (507, 1)\n",
      "TYPE  OF [testX] is [<class 'numpy.ndarray'>]\n",
      "SHAPE OF [testX] is (218, 7, 5)\n",
      "TYPE  OF [testY] is [<class 'numpy.ndarray'>]\n",
      "SHAPE OF [testY] is (218, 1)\n"
     ]
    }
   ],
   "source": [
    "train_size = int(len(dataY) * 0.7)\n",
    "test_size  = len(dataY) - train_size\n",
    "trainX = np.array(dataX[0:train_size])\n",
    "trainY = np.array(dataY[0:train_size])\n",
    "testX  = np.array(dataX[train_size:len(dataX)])\n",
    "testY  = np.array(dataY[train_size:len(dataY)])\n",
    "print_np('trainX', trainX)\n",
    "print_np('trainY', trainY)\n",
    "print_np('testX', testX)\n",
    "print_np('testY', testY)"
   ]
  },
  {
   "cell_type": "code",
   "execution_count": 7,
   "metadata": {
    "ExecuteTime": {
     "end_time": "2019-01-16T04:17:53.821770Z",
     "start_time": "2019-01-16T04:17:53.818628Z"
    }
   },
   "outputs": [],
   "source": [
    "## Hyperparameters\n",
    "hidden_dim   = 10\n",
    "output_dim   = 1\n",
    "learing_rate = 0.01\n",
    "iterations   = 500"
   ]
  },
  {
   "cell_type": "code",
   "execution_count": 8,
   "metadata": {
    "ExecuteTime": {
     "end_time": "2019-01-16T04:18:12.077822Z",
     "start_time": "2019-01-16T04:18:08.917292Z"
    }
   },
   "outputs": [
    {
     "name": "stdout",
     "output_type": "stream",
     "text": [
      "WARNING:tensorflow:From <ipython-input-8-41fe47afd097>:7: BasicLSTMCell.__init__ (from tensorflow.python.ops.rnn_cell_impl) is deprecated and will be removed in a future version.\n",
      "Instructions for updating:\n",
      "This class is deprecated, please use tf.nn.rnn_cell.LSTMCell, which supports all the feature this cell currently has. Please replace the existing code with tf.nn.rnn_cell.LSTMCell(name='basic_lstm_cell').\n",
      "'X' LOOKS LIKE Tensor(\"Placeholder:0\", shape=(?, 7, 5), dtype=float32)\n",
      "'Y' LOOKS LIKE Tensor(\"Placeholder_1:0\", shape=(?, 1), dtype=float32)\n",
      "'OUTPUTS' LOOKS LIKE Tensor(\"rnn/transpose_1:0\", shape=(?, 7, 10), dtype=float32)\n"
     ]
    }
   ],
   "source": [
    "## Define model\n",
    "# PLACEHOLDERS\n",
    "X = tf.placeholder(tf.float32, [None, seq_length, data_dim])\n",
    "Y = tf.placeholder(tf.float32, [None, 1])\n",
    "# BUILD MODEL\n",
    "cell = tf.contrib.rnn.BasicLSTMCell(\n",
    "    num_units=hidden_dim, state_is_tuple=True, activation=tf.tanh)\n",
    "outputs, _states = tf.nn.dynamic_rnn(cell, X, dtype=tf.float32)\n",
    "print (\"'X' LOOKS LIKE %s\" % (X))\n",
    "print (\"'Y' LOOKS LIKE %s\" % (Y))\n",
    "print (\"'OUTPUTS' LOOKS LIKE %s\" % (outputs))"
   ]
  },
  {
   "cell_type": "code",
   "execution_count": 9,
   "metadata": {
    "ExecuteTime": {
     "end_time": "2019-01-16T04:18:46.504679Z",
     "start_time": "2019-01-16T04:18:46.485835Z"
    }
   },
   "outputs": [
    {
     "name": "stdout",
     "output_type": "stream",
     "text": [
      "'Y_PRED' LOOKS LIKE Tensor(\"fully_connected/BiasAdd:0\", shape=(?, 1), dtype=float32)\n"
     ]
    }
   ],
   "source": [
    "## Dense layer for regression (output)\n",
    "Y_pred = tf.contrib.layers.fully_connected(\n",
    "    outputs[:, -1], output_dim, activation_fn=None)  # We use the last cell's output\n",
    "print (\"'Y_PRED' LOOKS LIKE %s\" % (Y_pred))"
   ]
  },
  {
   "cell_type": "code",
   "execution_count": 10,
   "metadata": {
    "ExecuteTime": {
     "end_time": "2019-01-16T04:19:08.157809Z",
     "start_time": "2019-01-16T04:19:07.974849Z"
    }
   },
   "outputs": [
    {
     "name": "stdout",
     "output_type": "stream",
     "text": [
      "MODEL DEFINED\n"
     ]
    }
   ],
   "source": [
    "## Loss/Optimizer\n",
    "\n",
    "# OPTIMIZER \n",
    "loss = tf.reduce_mean(tf.square(Y_pred - Y))  # sum of the squares\n",
    "optm = tf.train.AdamOptimizer(learing_rate).minimize(loss)\n",
    "\n",
    "# RMSE\n",
    "targets     = tf.placeholder(tf.float32, [None, 1])\n",
    "predictions = tf.placeholder(tf.float32, [None, 1])\n",
    "rmse        = tf.sqrt(tf.reduce_mean(tf.square(targets - predictions)))\n",
    "print (\"MODEL DEFINED\")"
   ]
  },
  {
   "cell_type": "code",
   "execution_count": 11,
   "metadata": {
    "ExecuteTime": {
     "end_time": "2019-01-16T04:19:36.895211Z",
     "start_time": "2019-01-16T04:19:33.734906Z"
    }
   },
   "outputs": [
    {
     "name": "stdout",
     "output_type": "stream",
     "text": [
      "[0/500] lossval: 0.3313\n",
      "[100/500] lossval: 0.0018\n",
      "[200/500] lossval: 0.0016\n",
      "[300/500] lossval: 0.0014\n",
      "[400/500] lossval: 0.0013\n",
      "OPTIMIZATION FINISHED\n"
     ]
    }
   ],
   "source": [
    "## Run / Optimization\n",
    "config = tf.ConfigProto()\n",
    "config.gpu_options.allow_growth=True\n",
    "sess = tf.Session(config=config)\n",
    "init = tf.global_variables_initializer()\n",
    "sess.run(init)\n",
    "\n",
    "# TRAIN\n",
    "losses = []\n",
    "for i in range(iterations):\n",
    "    _, lossval = sess.run([optm, loss], feed_dict={\n",
    "                            X: trainX, Y: trainY})\n",
    "    losses.append(lossval)\n",
    "    if i % 100 == 0: \n",
    "        print (\"[%d/%d] lossval: %.4f\" % (i, iterations, lossval))\n",
    "print (\"OPTIMIZATION FINISHED\")"
   ]
  },
  {
   "cell_type": "code",
   "execution_count": 12,
   "metadata": {
    "ExecuteTime": {
     "end_time": "2019-01-16T04:19:48.017582Z",
     "start_time": "2019-01-16T04:19:47.870012Z"
    }
   },
   "outputs": [
    {
     "data": {
      "text/plain": [
       "Text(0.5, 1.0, 'LOSS')"
      ]
     },
     "execution_count": 12,
     "metadata": {},
     "output_type": "execute_result"
    },
    {
     "data": {
      "image/png": "[encoded data removed]",
      "text/plain": [
       "<Figure size 432x216 with 1 Axes>"
      ]
     },
     "metadata": {
      "needs_background": "light"
     },
     "output_type": "display_data"
    }
   ],
   "source": [
    "## Loss plot\n",
    "losslist = [_lossval for _lossval in losses]\n",
    "plt.figure(figsize=(6, 3))\n",
    "plt.plot(losslist, label='With BN')\n",
    "plt.title(\"LOSS\")"
   ]
  },
  {
   "cell_type": "code",
   "execution_count": 13,
   "metadata": {
    "ExecuteTime": {
     "end_time": "2019-01-16T04:20:03.788388Z",
     "start_time": "2019-01-16T04:20:03.730910Z"
    }
   },
   "outputs": [
    {
     "name": "stdout",
     "output_type": "stream",
     "text": [
      "TYPE  OF [testX] is [<class 'numpy.ndarray'>]\n",
      "SHAPE OF [testX] is (218, 7, 5)\n",
      "TYPE  OF [test_predict] is [<class 'numpy.ndarray'>]\n",
      "SHAPE OF [test_predict] is (218, 1)\n",
      "RMSE: 0.028289133682847023\n"
     ]
    }
   ],
   "source": [
    "## Prediction test\n",
    "test_predict = sess.run(Y_pred, feed_dict={X: testX})\n",
    "rmse = sess.run(rmse, feed_dict={\n",
    "                targets: testY, predictions: test_predict})\n",
    "print_np('testX', testX)\n",
    "print_np('test_predict', test_predict)\n",
    "print(\"RMSE: {}\".format(rmse))"
   ]
  },
  {
   "cell_type": "code",
   "execution_count": 17,
   "metadata": {
    "ExecuteTime": {
     "end_time": "2019-01-16T04:23:06.755883Z",
     "start_time": "2019-01-16T04:23:06.663392Z"
    }
   },
   "outputs": [
    {
     "data": {
      "image/png": "[encoded data removed]",
      "text/plain": [
       "<Figure size 432x288 with 1 Axes>"
      ]
     },
     "metadata": {
      "needs_background": "light"
     },
     "output_type": "display_data"
    }
   ],
   "source": [
    "plt.plot(testY, label='testY')\n",
    "plt.plot(test_predict, label='test_predict')\n",
    "plt.xlabel(\"Time Period\")\n",
    "plt.ylabel(\"Stock Price\")\n",
    "plt.legend(loc='upper left')\n",
    "plt.show()"
   ]
  },
  {
   "cell_type": "code",
   "execution_count": null,
   "metadata": {},
   "outputs": [],
   "source": []
  }
 ],
 "metadata": {
  "kernelspec": {
   "display_name": "Python 3",
   "language": "python",
   "name": "python3"
  },
  "language_info": {
   "codemirror_mode": {
    "name": "ipython",
    "version": 3
   },
   "file_extension": ".py",
   "mimetype": "text/x-python",
   "name": "python",
   "nbconvert_exporter": "python",
   "pygments_lexer": "ipython3",
   "version": "3.6.7"
  },
  "latex_envs": {
   "LaTeX_envs_menu_present": true,
   "autoclose": false,
   "autocomplete": true,
   "bibliofile": "biblio.bib",
   "cite_by": "apalike",
   "current_citInitial": 1,
   "eqLabelWithNumbers": true,
   "eqNumInitial": 1,
   "hotkeys": {
    "equation": "Ctrl-E",
    "itemize": "Ctrl-I"
   },
   "labels_anchors": false,
   "latex_user_defs": false,
   "report_style_numbering": false,
   "user_envs_cfg": false
  },
  "toc": {
   "base_numbering": 1,
   "nav_menu": {},
   "number_sections": true,
   "sideBar": true,
   "skip_h1_title": false,
   "title_cell": "Table of Contents",
   "title_sidebar": "Contents",
   "toc_cell": false,
   "toc_position": {},
   "toc_section_display": true,
   "toc_window_display": false
  },
  "varInspector": {
   "cols": {
    "lenName": 16,
    "lenType": 16,
    "lenVar": 40
   },
   "kernels_config": {
    "python": {
     "delete_cmd_postfix": "",
     "delete_cmd_prefix": "del ",
     "library": "var_list.py",
     "varRefreshCmd": "print(var_dic_list())"
    },
    "r": {
     "delete_cmd_postfix": ") ",
     "delete_cmd_prefix": "rm(",
     "library": "var_list.r",
     "varRefreshCmd": "cat(var_dic_list()) "
    }
   },
   "types_to_exclude": [
    "module",
    "function",
    "builtin_function_or_method",
    "instance",
    "_Feature"
   ],
   "window_display": false
  }
 },
 "nbformat": 4,
 "nbformat_minor": 2
}
