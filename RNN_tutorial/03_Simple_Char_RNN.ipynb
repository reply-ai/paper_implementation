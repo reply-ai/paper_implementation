{
 "cells": [
  {
   "cell_type": "code",
   "execution_count": 1,
   "metadata": {
    "ExecuteTime": {
     "end_time": "2019-01-16T07:23:44.515882Z",
     "start_time": "2019-01-16T07:23:40.710779Z"
    }
   },
   "outputs": [
    {
     "name": "stdout",
     "output_type": "stream",
     "text": [
      "TENSORFLOW VERSION IS 1.12.0\n"
     ]
    }
   ],
   "source": [
    "from __future__ import print_function\n",
    "import tensorflow as tf\n",
    "import numpy as np\n",
    "from tensorflow.contrib import rnn\n",
    "tf.set_random_seed(0)  \n",
    "print (\"TENSORFLOW VERSION IS %s\" % (tf.__version__))"
   ]
  },
  {
   "cell_type": "code",
   "execution_count": 2,
   "metadata": {
    "ExecuteTime": {
     "end_time": "2019-01-16T07:23:44.519649Z",
     "start_time": "2019-01-16T07:23:44.516989Z"
    }
   },
   "outputs": [
    {
     "name": "stdout",
     "output_type": "stream",
     "text": [
      "FOLLOWING IS OUR TRAINING SEQUENCE:\n",
      "if you want to build a ship, don't drum up people together to collect wood and don't assign them tasks and work, but rather teach them to long for the endless immensity of the sea.\n"
     ]
    }
   ],
   "source": [
    "## Define training sequence\n",
    "sentence = (\"if you want to build a ship, don't drum up people together to \"\n",
    "            \"collect wood and don't assign them tasks and work, but rather \"\n",
    "            \"teach them to long for the endless immensity of the sea.\")\n",
    "print (\"FOLLOWING IS OUR TRAINING SEQUENCE:\")\n",
    "print (sentence)"
   ]
  },
  {
   "cell_type": "code",
   "execution_count": 3,
   "metadata": {
    "ExecuteTime": {
     "end_time": "2019-01-16T07:23:44.537802Z",
     "start_time": "2019-01-16T07:23:44.521691Z"
    }
   },
   "outputs": [
    {
     "name": "stdout",
     "output_type": "stream",
     "text": [
      "VOCABULARY: \n",
      "[' ', 'b', ',', 'h', 'c', 'o', 'd', 'p', 'e', 't', 'i', 'g', \"'\", 's', 'f', 'n', 'w', '.', 'u', 'a', 'r', 'k', 'l', 'y', 'm']\n",
      "DICTIONARY: \n",
      "{' ': 0, 'b': 1, ',': 2, 'h': 3, 'c': 4, 'o': 5, 'd': 6, 'p': 7, 'e': 8, 't': 9, 'i': 10, 'g': 11, \"'\": 12, 's': 13, 'f': 14, 'n': 15, 'w': 16, '.': 17, 'u': 18, 'a': 19, 'r': 20, 'k': 21, 'l': 22, 'y': 23, 'm': 24}\n"
     ]
    }
   ],
   "source": [
    "## Define vocabulary and dictionary\n",
    "char_set = list(set(sentence))\n",
    "char_dic = {w: i for i, w in enumerate(char_set)}\n",
    "print (\"VOCABULARY: \")\n",
    "print (char_set)\n",
    "print (\"DICTIONARY: \")\n",
    "print (char_dic)"
   ]
  },
  {
   "cell_type": "code",
   "execution_count": 4,
   "metadata": {
    "ExecuteTime": {
     "end_time": "2019-01-16T07:23:44.543652Z",
     "start_time": "2019-01-16T07:23:44.540610Z"
    }
   },
   "outputs": [],
   "source": [
    "## Configure network (hyperparameter)\n",
    "data_dim    = len(char_set)\n",
    "num_classes = len(char_set)\n",
    "hidden_size     = 64\n",
    "sequence_length = 10  # Any arbitrary number"
   ]
  },
  {
   "cell_type": "code",
   "execution_count": 5,
   "metadata": {
    "ExecuteTime": {
     "end_time": "2019-01-16T07:23:44.560108Z",
     "start_time": "2019-01-16T07:23:44.545341Z"
    }
   },
   "outputs": [
    {
     "name": "stdout",
     "output_type": "stream",
     "text": [
      "[  0/180] [if you wan]=>[f you want]\n",
      "          [10, 14, 0, 23, 5, 18, 0, 16, 19, 15]=>[14, 0, 23, 5, 18, 0, 16, 19, 15, 9]\n",
      "[  1/180] [f you want]=>[ you want ]\n",
      "          [14, 0, 23, 5, 18, 0, 16, 19, 15, 9]=>[0, 23, 5, 18, 0, 16, 19, 15, 9, 0]\n",
      "[  2/180] [ you want ]=>[you want t]\n",
      "          [0, 23, 5, 18, 0, 16, 19, 15, 9, 0]=>[23, 5, 18, 0, 16, 19, 15, 9, 0, 9]\n",
      "[  3/180] [you want t]=>[ou want to]\n",
      "          [23, 5, 18, 0, 16, 19, 15, 9, 0, 9]=>[5, 18, 0, 16, 19, 15, 9, 0, 9, 5]\n",
      "[  4/180] [ou want to]=>[u want to ]\n",
      "          [5, 18, 0, 16, 19, 15, 9, 0, 9, 5]=>[18, 0, 16, 19, 15, 9, 0, 9, 5, 0]\n",
      "[  5/180] [u want to ]=>[ want to b]\n",
      "          [18, 0, 16, 19, 15, 9, 0, 9, 5, 0]=>[0, 16, 19, 15, 9, 0, 9, 5, 0, 1]\n",
      "[  6/180] [ want to b]=>[want to bu]\n",
      "          [0, 16, 19, 15, 9, 0, 9, 5, 0, 1]=>[16, 19, 15, 9, 0, 9, 5, 0, 1, 18]\n",
      "[  7/180] [want to bu]=>[ant to bui]\n",
      "          [16, 19, 15, 9, 0, 9, 5, 0, 1, 18]=>[19, 15, 9, 0, 9, 5, 0, 1, 18, 10]\n",
      "[  8/180] [ant to bui]=>[nt to buil]\n",
      "          [19, 15, 9, 0, 9, 5, 0, 1, 18, 10]=>[15, 9, 0, 9, 5, 0, 1, 18, 10, 22]\n",
      "[  9/180] [nt to buil]=>[t to build]\n",
      "          [15, 9, 0, 9, 5, 0, 1, 18, 10, 22]=>[9, 0, 9, 5, 0, 1, 18, 10, 22, 6]\n",
      "[ 10/180] [t to build]=>[ to build ]\n",
      "          [9, 0, 9, 5, 0, 1, 18, 10, 22, 6]=>[0, 9, 5, 0, 1, 18, 10, 22, 6, 0]\n",
      "[ 11/180] [ to build ]=>[to build a]\n",
      "          [0, 9, 5, 0, 1, 18, 10, 22, 6, 0]=>[9, 5, 0, 1, 18, 10, 22, 6, 0, 19]\n",
      "[ 12/180] [to build a]=>[o build a ]\n",
      "          [9, 5, 0, 1, 18, 10, 22, 6, 0, 19]=>[5, 0, 1, 18, 10, 22, 6, 0, 19, 0]\n",
      "[ 13/180] [o build a ]=>[ build a s]\n",
      "          [5, 0, 1, 18, 10, 22, 6, 0, 19, 0]=>[0, 1, 18, 10, 22, 6, 0, 19, 0, 13]\n",
      "[ 14/180] [ build a s]=>[build a sh]\n",
      "          [0, 1, 18, 10, 22, 6, 0, 19, 0, 13]=>[1, 18, 10, 22, 6, 0, 19, 0, 13, 3]\n",
      "[ 15/180] [build a sh]=>[uild a shi]\n",
      "          [1, 18, 10, 22, 6, 0, 19, 0, 13, 3]=>[18, 10, 22, 6, 0, 19, 0, 13, 3, 10]\n",
      "[ 16/180] [uild a shi]=>[ild a ship]\n",
      "          [18, 10, 22, 6, 0, 19, 0, 13, 3, 10]=>[10, 22, 6, 0, 19, 0, 13, 3, 10, 7]\n",
      "[ 17/180] [ild a ship]=>[ld a ship,]\n",
      "          [10, 22, 6, 0, 19, 0, 13, 3, 10, 7]=>[22, 6, 0, 19, 0, 13, 3, 10, 7, 2]\n",
      "[ 18/180] [ld a ship,]=>[d a ship, ]\n",
      "          [22, 6, 0, 19, 0, 13, 3, 10, 7, 2]=>[6, 0, 19, 0, 13, 3, 10, 7, 2, 0]\n",
      "[ 19/180] [d a ship, ]=>[ a ship, d]\n",
      "          [6, 0, 19, 0, 13, 3, 10, 7, 2, 0]=>[0, 19, 0, 13, 3, 10, 7, 2, 0, 6]\n",
      "[ 20/180] [ a ship, d]=>[a ship, do]\n",
      "          [0, 19, 0, 13, 3, 10, 7, 2, 0, 6]=>[19, 0, 13, 3, 10, 7, 2, 0, 6, 5]\n",
      "[ 21/180] [a ship, do]=>[ ship, don]\n",
      "          [19, 0, 13, 3, 10, 7, 2, 0, 6, 5]=>[0, 13, 3, 10, 7, 2, 0, 6, 5, 15]\n",
      "[ 22/180] [ ship, don]=>[ship, don']\n",
      "          [0, 13, 3, 10, 7, 2, 0, 6, 5, 15]=>[13, 3, 10, 7, 2, 0, 6, 5, 15, 12]\n",
      "[ 23/180] [ship, don']=>[hip, don't]\n",
      "          [13, 3, 10, 7, 2, 0, 6, 5, 15, 12]=>[3, 10, 7, 2, 0, 6, 5, 15, 12, 9]\n",
      "[ 24/180] [hip, don't]=>[ip, don't ]\n",
      "          [3, 10, 7, 2, 0, 6, 5, 15, 12, 9]=>[10, 7, 2, 0, 6, 5, 15, 12, 9, 0]\n",
      "[ 25/180] [ip, don't ]=>[p, don't d]\n",
      "          [10, 7, 2, 0, 6, 5, 15, 12, 9, 0]=>[7, 2, 0, 6, 5, 15, 12, 9, 0, 6]\n",
      "[ 26/180] [p, don't d]=>[, don't dr]\n",
      "          [7, 2, 0, 6, 5, 15, 12, 9, 0, 6]=>[2, 0, 6, 5, 15, 12, 9, 0, 6, 20]\n",
      "[ 27/180] [, don't dr]=>[ don't dru]\n",
      "          [2, 0, 6, 5, 15, 12, 9, 0, 6, 20]=>[0, 6, 5, 15, 12, 9, 0, 6, 20, 18]\n",
      "[ 28/180] [ don't dru]=>[don't drum]\n",
      "          [0, 6, 5, 15, 12, 9, 0, 6, 20, 18]=>[6, 5, 15, 12, 9, 0, 6, 20, 18, 24]\n",
      "[ 29/180] [don't drum]=>[on't drum ]\n",
      "          [6, 5, 15, 12, 9, 0, 6, 20, 18, 24]=>[5, 15, 12, 9, 0, 6, 20, 18, 24, 0]\n",
      "[ 30/180] [on't drum ]=>[n't drum u]\n",
      "          [5, 15, 12, 9, 0, 6, 20, 18, 24, 0]=>[15, 12, 9, 0, 6, 20, 18, 24, 0, 18]\n",
      "[ 31/180] [n't drum u]=>['t drum up]\n",
      "          [15, 12, 9, 0, 6, 20, 18, 24, 0, 18]=>[12, 9, 0, 6, 20, 18, 24, 0, 18, 7]\n",
      "[ 32/180] ['t drum up]=>[t drum up ]\n",
      "          [12, 9, 0, 6, 20, 18, 24, 0, 18, 7]=>[9, 0, 6, 20, 18, 24, 0, 18, 7, 0]\n",
      "[ 33/180] [t drum up ]=>[ drum up p]\n",
      "          [9, 0, 6, 20, 18, 24, 0, 18, 7, 0]=>[0, 6, 20, 18, 24, 0, 18, 7, 0, 7]\n",
      "[ 34/180] [ drum up p]=>[drum up pe]\n",
      "          [0, 6, 20, 18, 24, 0, 18, 7, 0, 7]=>[6, 20, 18, 24, 0, 18, 7, 0, 7, 8]\n",
      "[ 35/180] [drum up pe]=>[rum up peo]\n",
      "          [6, 20, 18, 24, 0, 18, 7, 0, 7, 8]=>[20, 18, 24, 0, 18, 7, 0, 7, 8, 5]\n",
      "[ 36/180] [rum up peo]=>[um up peop]\n",
      "          [20, 18, 24, 0, 18, 7, 0, 7, 8, 5]=>[18, 24, 0, 18, 7, 0, 7, 8, 5, 7]\n",
      "[ 37/180] [um up peop]=>[m up peopl]\n",
      "          [18, 24, 0, 18, 7, 0, 7, 8, 5, 7]=>[24, 0, 18, 7, 0, 7, 8, 5, 7, 22]\n",
      "[ 38/180] [m up peopl]=>[ up people]\n",
      "          [24, 0, 18, 7, 0, 7, 8, 5, 7, 22]=>[0, 18, 7, 0, 7, 8, 5, 7, 22, 8]\n",
      "[ 39/180] [ up people]=>[up people ]\n",
      "          [0, 18, 7, 0, 7, 8, 5, 7, 22, 8]=>[18, 7, 0, 7, 8, 5, 7, 22, 8, 0]\n",
      "[ 40/180] [up people ]=>[p people t]\n",
      "          [18, 7, 0, 7, 8, 5, 7, 22, 8, 0]=>[7, 0, 7, 8, 5, 7, 22, 8, 0, 9]\n",
      "[ 41/180] [p people t]=>[ people to]\n",
      "          [7, 0, 7, 8, 5, 7, 22, 8, 0, 9]=>[0, 7, 8, 5, 7, 22, 8, 0, 9, 5]\n",
      "[ 42/180] [ people to]=>[people tog]\n",
      "          [0, 7, 8, 5, 7, 22, 8, 0, 9, 5]=>[7, 8, 5, 7, 22, 8, 0, 9, 5, 11]\n",
      "[ 43/180] [people tog]=>[eople toge]\n",
      "          [7, 8, 5, 7, 22, 8, 0, 9, 5, 11]=>[8, 5, 7, 22, 8, 0, 9, 5, 11, 8]\n",
      "[ 44/180] [eople toge]=>[ople toget]\n",
      "          [8, 5, 7, 22, 8, 0, 9, 5, 11, 8]=>[5, 7, 22, 8, 0, 9, 5, 11, 8, 9]\n",
      "[ 45/180] [ople toget]=>[ple togeth]\n",
      "          [5, 7, 22, 8, 0, 9, 5, 11, 8, 9]=>[7, 22, 8, 0, 9, 5, 11, 8, 9, 3]\n",
      "[ 46/180] [ple togeth]=>[le togethe]\n",
      "          [7, 22, 8, 0, 9, 5, 11, 8, 9, 3]=>[22, 8, 0, 9, 5, 11, 8, 9, 3, 8]\n",
      "[ 47/180] [le togethe]=>[e together]\n",
      "          [22, 8, 0, 9, 5, 11, 8, 9, 3, 8]=>[8, 0, 9, 5, 11, 8, 9, 3, 8, 20]\n",
      "[ 48/180] [e together]=>[ together ]\n",
      "          [8, 0, 9, 5, 11, 8, 9, 3, 8, 20]=>[0, 9, 5, 11, 8, 9, 3, 8, 20, 0]\n",
      "[ 49/180] [ together ]=>[together t]\n",
      "          [0, 9, 5, 11, 8, 9, 3, 8, 20, 0]=>[9, 5, 11, 8, 9, 3, 8, 20, 0, 9]\n",
      "[ 50/180] [together t]=>[ogether to]\n",
      "          [9, 5, 11, 8, 9, 3, 8, 20, 0, 9]=>[5, 11, 8, 9, 3, 8, 20, 0, 9, 5]\n",
      "[ 51/180] [ogether to]=>[gether to ]\n",
      "          [5, 11, 8, 9, 3, 8, 20, 0, 9, 5]=>[11, 8, 9, 3, 8, 20, 0, 9, 5, 0]\n",
      "[ 52/180] [gether to ]=>[ether to c]\n",
      "          [11, 8, 9, 3, 8, 20, 0, 9, 5, 0]=>[8, 9, 3, 8, 20, 0, 9, 5, 0, 4]\n",
      "[ 53/180] [ether to c]=>[ther to co]\n",
      "          [8, 9, 3, 8, 20, 0, 9, 5, 0, 4]=>[9, 3, 8, 20, 0, 9, 5, 0, 4, 5]\n",
      "[ 54/180] [ther to co]=>[her to col]\n",
      "          [9, 3, 8, 20, 0, 9, 5, 0, 4, 5]=>[3, 8, 20, 0, 9, 5, 0, 4, 5, 22]\n",
      "[ 55/180] [her to col]=>[er to coll]\n",
      "          [3, 8, 20, 0, 9, 5, 0, 4, 5, 22]=>[8, 20, 0, 9, 5, 0, 4, 5, 22, 22]\n",
      "[ 56/180] [er to coll]=>[r to colle]\n",
      "          [8, 20, 0, 9, 5, 0, 4, 5, 22, 22]=>[20, 0, 9, 5, 0, 4, 5, 22, 22, 8]\n",
      "[ 57/180] [r to colle]=>[ to collec]\n",
      "          [20, 0, 9, 5, 0, 4, 5, 22, 22, 8]=>[0, 9, 5, 0, 4, 5, 22, 22, 8, 4]\n",
      "[ 58/180] [ to collec]=>[to collect]\n",
      "          [0, 9, 5, 0, 4, 5, 22, 22, 8, 4]=>[9, 5, 0, 4, 5, 22, 22, 8, 4, 9]\n",
      "[ 59/180] [to collect]=>[o collect ]\n",
      "          [9, 5, 0, 4, 5, 22, 22, 8, 4, 9]=>[5, 0, 4, 5, 22, 22, 8, 4, 9, 0]\n",
      "[ 60/180] [o collect ]=>[ collect w]\n",
      "          [5, 0, 4, 5, 22, 22, 8, 4, 9, 0]=>[0, 4, 5, 22, 22, 8, 4, 9, 0, 16]\n",
      "[ 61/180] [ collect w]=>[collect wo]\n",
      "          [0, 4, 5, 22, 22, 8, 4, 9, 0, 16]=>[4, 5, 22, 22, 8, 4, 9, 0, 16, 5]\n",
      "[ 62/180] [collect wo]=>[ollect woo]\n",
      "          [4, 5, 22, 22, 8, 4, 9, 0, 16, 5]=>[5, 22, 22, 8, 4, 9, 0, 16, 5, 5]\n",
      "[ 63/180] [ollect woo]=>[llect wood]\n",
      "          [5, 22, 22, 8, 4, 9, 0, 16, 5, 5]=>[22, 22, 8, 4, 9, 0, 16, 5, 5, 6]\n",
      "[ 64/180] [llect wood]=>[lect wood ]\n",
      "          [22, 22, 8, 4, 9, 0, 16, 5, 5, 6]=>[22, 8, 4, 9, 0, 16, 5, 5, 6, 0]\n",
      "[ 65/180] [lect wood ]=>[ect wood a]\n",
      "          [22, 8, 4, 9, 0, 16, 5, 5, 6, 0]=>[8, 4, 9, 0, 16, 5, 5, 6, 0, 19]\n",
      "[ 66/180] [ect wood a]=>[ct wood an]\n",
      "          [8, 4, 9, 0, 16, 5, 5, 6, 0, 19]=>[4, 9, 0, 16, 5, 5, 6, 0, 19, 15]\n",
      "[ 67/180] [ct wood an]=>[t wood and]\n",
      "          [4, 9, 0, 16, 5, 5, 6, 0, 19, 15]=>[9, 0, 16, 5, 5, 6, 0, 19, 15, 6]\n",
      "[ 68/180] [t wood and]=>[ wood and ]\n",
      "          [9, 0, 16, 5, 5, 6, 0, 19, 15, 6]=>[0, 16, 5, 5, 6, 0, 19, 15, 6, 0]\n",
      "[ 69/180] [ wood and ]=>[wood and d]\n",
      "          [0, 16, 5, 5, 6, 0, 19, 15, 6, 0]=>[16, 5, 5, 6, 0, 19, 15, 6, 0, 6]\n",
      "[ 70/180] [wood and d]=>[ood and do]\n",
      "          [16, 5, 5, 6, 0, 19, 15, 6, 0, 6]=>[5, 5, 6, 0, 19, 15, 6, 0, 6, 5]\n",
      "[ 71/180] [ood and do]=>[od and don]\n",
      "          [5, 5, 6, 0, 19, 15, 6, 0, 6, 5]=>[5, 6, 0, 19, 15, 6, 0, 6, 5, 15]\n",
      "[ 72/180] [od and don]=>[d and don']\n",
      "          [5, 6, 0, 19, 15, 6, 0, 6, 5, 15]=>[6, 0, 19, 15, 6, 0, 6, 5, 15, 12]\n",
      "[ 73/180] [d and don']=>[ and don't]\n",
      "          [6, 0, 19, 15, 6, 0, 6, 5, 15, 12]=>[0, 19, 15, 6, 0, 6, 5, 15, 12, 9]\n",
      "[ 74/180] [ and don't]=>[and don't ]\n",
      "          [0, 19, 15, 6, 0, 6, 5, 15, 12, 9]=>[19, 15, 6, 0, 6, 5, 15, 12, 9, 0]\n",
      "[ 75/180] [and don't ]=>[nd don't a]\n",
      "          [19, 15, 6, 0, 6, 5, 15, 12, 9, 0]=>[15, 6, 0, 6, 5, 15, 12, 9, 0, 19]\n",
      "[ 76/180] [nd don't a]=>[d don't as]\n",
      "          [15, 6, 0, 6, 5, 15, 12, 9, 0, 19]=>[6, 0, 6, 5, 15, 12, 9, 0, 19, 13]\n",
      "[ 77/180] [d don't as]=>[ don't ass]\n",
      "          [6, 0, 6, 5, 15, 12, 9, 0, 19, 13]=>[0, 6, 5, 15, 12, 9, 0, 19, 13, 13]\n",
      "[ 78/180] [ don't ass]=>[don't assi]\n",
      "          [0, 6, 5, 15, 12, 9, 0, 19, 13, 13]=>[6, 5, 15, 12, 9, 0, 19, 13, 13, 10]\n",
      "[ 79/180] [don't assi]=>[on't assig]\n",
      "          [6, 5, 15, 12, 9, 0, 19, 13, 13, 10]=>[5, 15, 12, 9, 0, 19, 13, 13, 10, 11]\n",
      "[ 80/180] [on't assig]=>[n't assign]\n",
      "          [5, 15, 12, 9, 0, 19, 13, 13, 10, 11]=>[15, 12, 9, 0, 19, 13, 13, 10, 11, 15]\n",
      "[ 81/180] [n't assign]=>['t assign ]\n",
      "          [15, 12, 9, 0, 19, 13, 13, 10, 11, 15]=>[12, 9, 0, 19, 13, 13, 10, 11, 15, 0]\n",
      "[ 82/180] ['t assign ]=>[t assign t]\n",
      "          [12, 9, 0, 19, 13, 13, 10, 11, 15, 0]=>[9, 0, 19, 13, 13, 10, 11, 15, 0, 9]\n",
      "[ 83/180] [t assign t]=>[ assign th]\n",
      "          [9, 0, 19, 13, 13, 10, 11, 15, 0, 9]=>[0, 19, 13, 13, 10, 11, 15, 0, 9, 3]\n",
      "[ 84/180] [ assign th]=>[assign the]\n",
      "          [0, 19, 13, 13, 10, 11, 15, 0, 9, 3]=>[19, 13, 13, 10, 11, 15, 0, 9, 3, 8]\n",
      "[ 85/180] [assign the]=>[ssign them]\n",
      "          [19, 13, 13, 10, 11, 15, 0, 9, 3, 8]=>[13, 13, 10, 11, 15, 0, 9, 3, 8, 24]\n",
      "[ 86/180] [ssign them]=>[sign them ]\n",
      "          [13, 13, 10, 11, 15, 0, 9, 3, 8, 24]=>[13, 10, 11, 15, 0, 9, 3, 8, 24, 0]\n",
      "[ 87/180] [sign them ]=>[ign them t]\n",
      "          [13, 10, 11, 15, 0, 9, 3, 8, 24, 0]=>[10, 11, 15, 0, 9, 3, 8, 24, 0, 9]\n",
      "[ 88/180] [ign them t]=>[gn them ta]\n",
      "          [10, 11, 15, 0, 9, 3, 8, 24, 0, 9]=>[11, 15, 0, 9, 3, 8, 24, 0, 9, 19]\n",
      "[ 89/180] [gn them ta]=>[n them tas]\n",
      "          [11, 15, 0, 9, 3, 8, 24, 0, 9, 19]=>[15, 0, 9, 3, 8, 24, 0, 9, 19, 13]\n",
      "[ 90/180] [n them tas]=>[ them task]\n",
      "          [15, 0, 9, 3, 8, 24, 0, 9, 19, 13]=>[0, 9, 3, 8, 24, 0, 9, 19, 13, 21]\n",
      "[ 91/180] [ them task]=>[them tasks]\n",
      "          [0, 9, 3, 8, 24, 0, 9, 19, 13, 21]=>[9, 3, 8, 24, 0, 9, 19, 13, 21, 13]\n",
      "[ 92/180] [them tasks]=>[hem tasks ]\n",
      "          [9, 3, 8, 24, 0, 9, 19, 13, 21, 13]=>[3, 8, 24, 0, 9, 19, 13, 21, 13, 0]\n",
      "[ 93/180] [hem tasks ]=>[em tasks a]\n",
      "          [3, 8, 24, 0, 9, 19, 13, 21, 13, 0]=>[8, 24, 0, 9, 19, 13, 21, 13, 0, 19]\n",
      "[ 94/180] [em tasks a]=>[m tasks an]\n",
      "          [8, 24, 0, 9, 19, 13, 21, 13, 0, 19]=>[24, 0, 9, 19, 13, 21, 13, 0, 19, 15]\n",
      "[ 95/180] [m tasks an]=>[ tasks and]\n",
      "          [24, 0, 9, 19, 13, 21, 13, 0, 19, 15]=>[0, 9, 19, 13, 21, 13, 0, 19, 15, 6]\n",
      "[ 96/180] [ tasks and]=>[tasks and ]\n",
      "          [0, 9, 19, 13, 21, 13, 0, 19, 15, 6]=>[9, 19, 13, 21, 13, 0, 19, 15, 6, 0]\n",
      "[ 97/180] [tasks and ]=>[asks and w]\n",
      "          [9, 19, 13, 21, 13, 0, 19, 15, 6, 0]=>[19, 13, 21, 13, 0, 19, 15, 6, 0, 16]\n",
      "[ 98/180] [asks and w]=>[sks and wo]\n",
      "          [19, 13, 21, 13, 0, 19, 15, 6, 0, 16]=>[13, 21, 13, 0, 19, 15, 6, 0, 16, 5]\n",
      "[ 99/180] [sks and wo]=>[ks and wor]\n",
      "          [13, 21, 13, 0, 19, 15, 6, 0, 16, 5]=>[21, 13, 0, 19, 15, 6, 0, 16, 5, 20]\n",
      "[100/180] [ks and wor]=>[s and work]\n",
      "          [21, 13, 0, 19, 15, 6, 0, 16, 5, 20]=>[13, 0, 19, 15, 6, 0, 16, 5, 20, 21]\n",
      "[101/180] [s and work]=>[ and work,]\n",
      "          [13, 0, 19, 15, 6, 0, 16, 5, 20, 21]=>[0, 19, 15, 6, 0, 16, 5, 20, 21, 2]\n",
      "[102/180] [ and work,]=>[and work, ]\n",
      "          [0, 19, 15, 6, 0, 16, 5, 20, 21, 2]=>[19, 15, 6, 0, 16, 5, 20, 21, 2, 0]\n",
      "[103/180] [and work, ]=>[nd work, b]\n",
      "          [19, 15, 6, 0, 16, 5, 20, 21, 2, 0]=>[15, 6, 0, 16, 5, 20, 21, 2, 0, 1]\n",
      "[104/180] [nd work, b]=>[d work, bu]\n",
      "          [15, 6, 0, 16, 5, 20, 21, 2, 0, 1]=>[6, 0, 16, 5, 20, 21, 2, 0, 1, 18]\n",
      "[105/180] [d work, bu]=>[ work, but]\n",
      "          [6, 0, 16, 5, 20, 21, 2, 0, 1, 18]=>[0, 16, 5, 20, 21, 2, 0, 1, 18, 9]\n",
      "[106/180] [ work, but]=>[work, but ]\n",
      "          [0, 16, 5, 20, 21, 2, 0, 1, 18, 9]=>[16, 5, 20, 21, 2, 0, 1, 18, 9, 0]\n",
      "[107/180] [work, but ]=>[ork, but r]\n",
      "          [16, 5, 20, 21, 2, 0, 1, 18, 9, 0]=>[5, 20, 21, 2, 0, 1, 18, 9, 0, 20]\n",
      "[108/180] [ork, but r]=>[rk, but ra]\n",
      "          [5, 20, 21, 2, 0, 1, 18, 9, 0, 20]=>[20, 21, 2, 0, 1, 18, 9, 0, 20, 19]\n",
      "[109/180] [rk, but ra]=>[k, but rat]\n",
      "          [20, 21, 2, 0, 1, 18, 9, 0, 20, 19]=>[21, 2, 0, 1, 18, 9, 0, 20, 19, 9]\n",
      "[110/180] [k, but rat]=>[, but rath]\n",
      "          [21, 2, 0, 1, 18, 9, 0, 20, 19, 9]=>[2, 0, 1, 18, 9, 0, 20, 19, 9, 3]\n",
      "[111/180] [, but rath]=>[ but rathe]\n",
      "          [2, 0, 1, 18, 9, 0, 20, 19, 9, 3]=>[0, 1, 18, 9, 0, 20, 19, 9, 3, 8]\n",
      "[112/180] [ but rathe]=>[but rather]\n",
      "          [0, 1, 18, 9, 0, 20, 19, 9, 3, 8]=>[1, 18, 9, 0, 20, 19, 9, 3, 8, 20]\n",
      "[113/180] [but rather]=>[ut rather ]\n",
      "          [1, 18, 9, 0, 20, 19, 9, 3, 8, 20]=>[18, 9, 0, 20, 19, 9, 3, 8, 20, 0]\n",
      "[114/180] [ut rather ]=>[t rather t]\n",
      "          [18, 9, 0, 20, 19, 9, 3, 8, 20, 0]=>[9, 0, 20, 19, 9, 3, 8, 20, 0, 9]\n",
      "[115/180] [t rather t]=>[ rather te]\n",
      "          [9, 0, 20, 19, 9, 3, 8, 20, 0, 9]=>[0, 20, 19, 9, 3, 8, 20, 0, 9, 8]\n",
      "[116/180] [ rather te]=>[rather tea]\n",
      "          [0, 20, 19, 9, 3, 8, 20, 0, 9, 8]=>[20, 19, 9, 3, 8, 20, 0, 9, 8, 19]\n",
      "[117/180] [rather tea]=>[ather teac]\n",
      "          [20, 19, 9, 3, 8, 20, 0, 9, 8, 19]=>[19, 9, 3, 8, 20, 0, 9, 8, 19, 4]\n",
      "[118/180] [ather teac]=>[ther teach]\n",
      "          [19, 9, 3, 8, 20, 0, 9, 8, 19, 4]=>[9, 3, 8, 20, 0, 9, 8, 19, 4, 3]\n",
      "[119/180] [ther teach]=>[her teach ]\n",
      "          [9, 3, 8, 20, 0, 9, 8, 19, 4, 3]=>[3, 8, 20, 0, 9, 8, 19, 4, 3, 0]\n",
      "[120/180] [her teach ]=>[er teach t]\n",
      "          [3, 8, 20, 0, 9, 8, 19, 4, 3, 0]=>[8, 20, 0, 9, 8, 19, 4, 3, 0, 9]\n",
      "[121/180] [er teach t]=>[r teach th]\n",
      "          [8, 20, 0, 9, 8, 19, 4, 3, 0, 9]=>[20, 0, 9, 8, 19, 4, 3, 0, 9, 3]\n",
      "[122/180] [r teach th]=>[ teach the]\n",
      "          [20, 0, 9, 8, 19, 4, 3, 0, 9, 3]=>[0, 9, 8, 19, 4, 3, 0, 9, 3, 8]\n",
      "[123/180] [ teach the]=>[teach them]\n",
      "          [0, 9, 8, 19, 4, 3, 0, 9, 3, 8]=>[9, 8, 19, 4, 3, 0, 9, 3, 8, 24]\n",
      "[124/180] [teach them]=>[each them ]\n",
      "          [9, 8, 19, 4, 3, 0, 9, 3, 8, 24]=>[8, 19, 4, 3, 0, 9, 3, 8, 24, 0]\n",
      "[125/180] [each them ]=>[ach them t]\n",
      "          [8, 19, 4, 3, 0, 9, 3, 8, 24, 0]=>[19, 4, 3, 0, 9, 3, 8, 24, 0, 9]\n",
      "[126/180] [ach them t]=>[ch them to]\n",
      "          [19, 4, 3, 0, 9, 3, 8, 24, 0, 9]=>[4, 3, 0, 9, 3, 8, 24, 0, 9, 5]\n",
      "[127/180] [ch them to]=>[h them to ]\n",
      "          [4, 3, 0, 9, 3, 8, 24, 0, 9, 5]=>[3, 0, 9, 3, 8, 24, 0, 9, 5, 0]\n",
      "[128/180] [h them to ]=>[ them to l]\n",
      "          [3, 0, 9, 3, 8, 24, 0, 9, 5, 0]=>[0, 9, 3, 8, 24, 0, 9, 5, 0, 22]\n",
      "[129/180] [ them to l]=>[them to lo]\n",
      "          [0, 9, 3, 8, 24, 0, 9, 5, 0, 22]=>[9, 3, 8, 24, 0, 9, 5, 0, 22, 5]\n",
      "[130/180] [them to lo]=>[hem to lon]\n",
      "          [9, 3, 8, 24, 0, 9, 5, 0, 22, 5]=>[3, 8, 24, 0, 9, 5, 0, 22, 5, 15]\n",
      "[131/180] [hem to lon]=>[em to long]\n",
      "          [3, 8, 24, 0, 9, 5, 0, 22, 5, 15]=>[8, 24, 0, 9, 5, 0, 22, 5, 15, 11]\n",
      "[132/180] [em to long]=>[m to long ]\n",
      "          [8, 24, 0, 9, 5, 0, 22, 5, 15, 11]=>[24, 0, 9, 5, 0, 22, 5, 15, 11, 0]\n",
      "[133/180] [m to long ]=>[ to long f]\n",
      "          [24, 0, 9, 5, 0, 22, 5, 15, 11, 0]=>[0, 9, 5, 0, 22, 5, 15, 11, 0, 14]\n",
      "[134/180] [ to long f]=>[to long fo]\n",
      "          [0, 9, 5, 0, 22, 5, 15, 11, 0, 14]=>[9, 5, 0, 22, 5, 15, 11, 0, 14, 5]\n",
      "[135/180] [to long fo]=>[o long for]\n",
      "          [9, 5, 0, 22, 5, 15, 11, 0, 14, 5]=>[5, 0, 22, 5, 15, 11, 0, 14, 5, 20]\n",
      "[136/180] [o long for]=>[ long for ]\n",
      "          [5, 0, 22, 5, 15, 11, 0, 14, 5, 20]=>[0, 22, 5, 15, 11, 0, 14, 5, 20, 0]\n",
      "[137/180] [ long for ]=>[long for t]\n",
      "          [0, 22, 5, 15, 11, 0, 14, 5, 20, 0]=>[22, 5, 15, 11, 0, 14, 5, 20, 0, 9]\n",
      "[138/180] [long for t]=>[ong for th]\n",
      "          [22, 5, 15, 11, 0, 14, 5, 20, 0, 9]=>[5, 15, 11, 0, 14, 5, 20, 0, 9, 3]\n",
      "[139/180] [ong for th]=>[ng for the]\n",
      "          [5, 15, 11, 0, 14, 5, 20, 0, 9, 3]=>[15, 11, 0, 14, 5, 20, 0, 9, 3, 8]\n",
      "[140/180] [ng for the]=>[g for the ]\n",
      "          [15, 11, 0, 14, 5, 20, 0, 9, 3, 8]=>[11, 0, 14, 5, 20, 0, 9, 3, 8, 0]\n",
      "[141/180] [g for the ]=>[ for the e]\n",
      "          [11, 0, 14, 5, 20, 0, 9, 3, 8, 0]=>[0, 14, 5, 20, 0, 9, 3, 8, 0, 8]\n",
      "[142/180] [ for the e]=>[for the en]\n",
      "          [0, 14, 5, 20, 0, 9, 3, 8, 0, 8]=>[14, 5, 20, 0, 9, 3, 8, 0, 8, 15]\n",
      "[143/180] [for the en]=>[or the end]\n",
      "          [14, 5, 20, 0, 9, 3, 8, 0, 8, 15]=>[5, 20, 0, 9, 3, 8, 0, 8, 15, 6]\n",
      "[144/180] [or the end]=>[r the endl]\n",
      "          [5, 20, 0, 9, 3, 8, 0, 8, 15, 6]=>[20, 0, 9, 3, 8, 0, 8, 15, 6, 22]\n",
      "[145/180] [r the endl]=>[ the endle]\n",
      "          [20, 0, 9, 3, 8, 0, 8, 15, 6, 22]=>[0, 9, 3, 8, 0, 8, 15, 6, 22, 8]\n",
      "[146/180] [ the endle]=>[the endles]\n",
      "          [0, 9, 3, 8, 0, 8, 15, 6, 22, 8]=>[9, 3, 8, 0, 8, 15, 6, 22, 8, 13]\n",
      "[147/180] [the endles]=>[he endless]\n",
      "          [9, 3, 8, 0, 8, 15, 6, 22, 8, 13]=>[3, 8, 0, 8, 15, 6, 22, 8, 13, 13]\n",
      "[148/180] [he endless]=>[e endless ]\n",
      "          [3, 8, 0, 8, 15, 6, 22, 8, 13, 13]=>[8, 0, 8, 15, 6, 22, 8, 13, 13, 0]\n",
      "[149/180] [e endless ]=>[ endless i]\n",
      "          [8, 0, 8, 15, 6, 22, 8, 13, 13, 0]=>[0, 8, 15, 6, 22, 8, 13, 13, 0, 10]\n",
      "[150/180] [ endless i]=>[endless im]\n",
      "          [0, 8, 15, 6, 22, 8, 13, 13, 0, 10]=>[8, 15, 6, 22, 8, 13, 13, 0, 10, 24]\n",
      "[151/180] [endless im]=>[ndless imm]\n",
      "          [8, 15, 6, 22, 8, 13, 13, 0, 10, 24]=>[15, 6, 22, 8, 13, 13, 0, 10, 24, 24]\n",
      "[152/180] [ndless imm]=>[dless imme]\n",
      "          [15, 6, 22, 8, 13, 13, 0, 10, 24, 24]=>[6, 22, 8, 13, 13, 0, 10, 24, 24, 8]\n",
      "[153/180] [dless imme]=>[less immen]\n",
      "          [6, 22, 8, 13, 13, 0, 10, 24, 24, 8]=>[22, 8, 13, 13, 0, 10, 24, 24, 8, 15]\n",
      "[154/180] [less immen]=>[ess immens]\n",
      "          [22, 8, 13, 13, 0, 10, 24, 24, 8, 15]=>[8, 13, 13, 0, 10, 24, 24, 8, 15, 13]\n",
      "[155/180] [ess immens]=>[ss immensi]\n",
      "          [8, 13, 13, 0, 10, 24, 24, 8, 15, 13]=>[13, 13, 0, 10, 24, 24, 8, 15, 13, 10]\n",
      "[156/180] [ss immensi]=>[s immensit]\n",
      "          [13, 13, 0, 10, 24, 24, 8, 15, 13, 10]=>[13, 0, 10, 24, 24, 8, 15, 13, 10, 9]\n",
      "[157/180] [s immensit]=>[ immensity]\n",
      "          [13, 0, 10, 24, 24, 8, 15, 13, 10, 9]=>[0, 10, 24, 24, 8, 15, 13, 10, 9, 23]\n",
      "[158/180] [ immensity]=>[immensity ]\n",
      "          [0, 10, 24, 24, 8, 15, 13, 10, 9, 23]=>[10, 24, 24, 8, 15, 13, 10, 9, 23, 0]\n",
      "[159/180] [immensity ]=>[mmensity o]\n",
      "          [10, 24, 24, 8, 15, 13, 10, 9, 23, 0]=>[24, 24, 8, 15, 13, 10, 9, 23, 0, 5]\n",
      "[160/180] [mmensity o]=>[mensity of]\n",
      "          [24, 24, 8, 15, 13, 10, 9, 23, 0, 5]=>[24, 8, 15, 13, 10, 9, 23, 0, 5, 14]\n",
      "[161/180] [mensity of]=>[ensity of ]\n",
      "          [24, 8, 15, 13, 10, 9, 23, 0, 5, 14]=>[8, 15, 13, 10, 9, 23, 0, 5, 14, 0]\n",
      "[162/180] [ensity of ]=>[nsity of t]\n",
      "          [8, 15, 13, 10, 9, 23, 0, 5, 14, 0]=>[15, 13, 10, 9, 23, 0, 5, 14, 0, 9]\n",
      "[163/180] [nsity of t]=>[sity of th]\n",
      "          [15, 13, 10, 9, 23, 0, 5, 14, 0, 9]=>[13, 10, 9, 23, 0, 5, 14, 0, 9, 3]\n",
      "[164/180] [sity of th]=>[ity of the]\n",
      "          [13, 10, 9, 23, 0, 5, 14, 0, 9, 3]=>[10, 9, 23, 0, 5, 14, 0, 9, 3, 8]\n",
      "[165/180] [ity of the]=>[ty of the ]\n",
      "          [10, 9, 23, 0, 5, 14, 0, 9, 3, 8]=>[9, 23, 0, 5, 14, 0, 9, 3, 8, 0]\n",
      "[166/180] [ty of the ]=>[y of the s]\n",
      "          [9, 23, 0, 5, 14, 0, 9, 3, 8, 0]=>[23, 0, 5, 14, 0, 9, 3, 8, 0, 13]\n",
      "[167/180] [y of the s]=>[ of the se]\n",
      "          [23, 0, 5, 14, 0, 9, 3, 8, 0, 13]=>[0, 5, 14, 0, 9, 3, 8, 0, 13, 8]\n",
      "[168/180] [ of the se]=>[of the sea]\n",
      "          [0, 5, 14, 0, 9, 3, 8, 0, 13, 8]=>[5, 14, 0, 9, 3, 8, 0, 13, 8, 19]\n",
      "[169/180] [of the sea]=>[f the sea.]\n",
      "          [5, 14, 0, 9, 3, 8, 0, 13, 8, 19]=>[14, 0, 9, 3, 8, 0, 13, 8, 19, 17]\n"
     ]
    }
   ],
   "source": [
    "## Set training batches\n",
    "dataX = []\n",
    "dataY = []\n",
    "for i in range(0, len(sentence) - sequence_length):\n",
    "    x_str = sentence[i:i + sequence_length]\n",
    "    y_str = sentence[i + 1: i + sequence_length + 1]\n",
    "    x = [char_dic[c] for c in x_str]  # x str to index\n",
    "    y = [char_dic[c] for c in y_str]  # y str to index\n",
    "    dataX.append(x)\n",
    "    dataY.append(y)\n",
    "    print (\"[%3d/%3d] [%s]=>[%s]\" % (i, len(sentence), x_str, y_str))\n",
    "    print (\"%s%s=>%s\" % (' '*10, x, y))"
   ]
  },
  {
   "cell_type": "code",
   "execution_count": 6,
   "metadata": {
    "ExecuteTime": {
     "end_time": "2019-01-16T07:23:44.566294Z",
     "start_time": "2019-01-16T07:23:44.563173Z"
    }
   },
   "outputs": [
    {
     "name": "stdout",
     "output_type": "stream",
     "text": [
      "     'NDATA' IS 170\n",
      "'BATCH_SIZE' IS 20\n"
     ]
    }
   ],
   "source": [
    "ndata      = len(dataX)\n",
    "batch_size = 20\n",
    "print (\"     'NDATA' IS %d\" % (ndata))\n",
    "print (\"'BATCH_SIZE' IS %d\" % (batch_size))"
   ]
  },
  {
   "cell_type": "code",
   "execution_count": 7,
   "metadata": {
    "ExecuteTime": {
     "end_time": "2019-01-16T07:23:44.586961Z",
     "start_time": "2019-01-16T07:23:44.568052Z"
    }
   },
   "outputs": [
    {
     "name": "stdout",
     "output_type": "stream",
     "text": [
      "'sequence_length' IS [10]\n",
      "    'num_classes' IS [25]\n",
      "'X' LOOKS LIKE \n",
      "   [Tensor(\"Placeholder:0\", shape=(?, 10), dtype=int32)]\n",
      "'X_OH' LOOKS LIKE \n",
      "   [Tensor(\"one_hot:0\", shape=(?, 10, 25), dtype=float32)]\n"
     ]
    }
   ],
   "source": [
    "## Define placeholders (graph)\n",
    "X = tf.placeholder(tf.int32, [None, sequence_length])\n",
    "Y = tf.placeholder(tf.int32, [None, sequence_length])\n",
    "X_OH = tf.one_hot(X, num_classes)\n",
    "print (\"'sequence_length' IS [%d]\" % (sequence_length))\n",
    "print (\"    'num_classes' IS [%d]\" % (num_classes))\n",
    "print(\"'X' LOOKS LIKE \\n   [%s]\" % (X))  \n",
    "print(\"'X_OH' LOOKS LIKE \\n   [%s]\" % (X_OH))"
   ]
  },
  {
   "cell_type": "code",
   "execution_count": 8,
   "metadata": {
    "ExecuteTime": {
     "end_time": "2019-01-16T07:23:44.832931Z",
     "start_time": "2019-01-16T07:23:44.589442Z"
    }
   },
   "outputs": [
    {
     "name": "stdout",
     "output_type": "stream",
     "text": [
      "WARNING:tensorflow:From <ipython-input-8-337ddbb1925b>:3: BasicLSTMCell.__init__ (from tensorflow.python.ops.rnn_cell_impl) is deprecated and will be removed in a future version.\n",
      "Instructions for updating:\n",
      "This class is deprecated, please use tf.nn.rnn_cell.LSTMCell, which supports all the feature this cell currently has. Please replace the existing code with tf.nn.rnn_cell.LSTMCell(name='basic_lstm_cell').\n",
      "OUTPUTS LOOKS LIKE [Tensor(\"CHAR-RNN/Reshape:0\", shape=(20, 10, 25), dtype=float32)]\n",
      "MODEL DEFINED.\n"
     ]
    }
   ],
   "source": [
    "## Define model\n",
    "with tf.variable_scope('CHAR-RNN', reuse=False):\n",
    "    cell_1 = rnn.BasicLSTMCell(hidden_size, state_is_tuple=True)\n",
    "    cell_2 = rnn.BasicLSTMCell(hidden_size, state_is_tuple=True)\n",
    "    cell = rnn.MultiRNNCell([cell_1, cell_2], state_is_tuple=True)\n",
    "    # DYNAMIC RNN WITH FULLY CONNECTED LAYER\n",
    "    _outputs, _states = tf.nn.dynamic_rnn(cell, X_OH, dtype=tf.float32)\n",
    "    _outputs  = tf.contrib.layers.fully_connected(_outputs, num_classes, activation_fn=None)\n",
    "    # RESHAPE FOR SEQUNCE LOSS\n",
    "    outputs = tf.reshape(_outputs, [batch_size, sequence_length, num_classes])\n",
    "print (\"OUTPUTS LOOKS LIKE [%s]\" % (outputs))\n",
    "print (\"MODEL DEFINED.\")"
   ]
  },
  {
   "cell_type": "code",
   "execution_count": 9,
   "metadata": {
    "ExecuteTime": {
     "end_time": "2019-01-16T07:24:21.160881Z",
     "start_time": "2019-01-16T07:24:20.835999Z"
    }
   },
   "outputs": [
    {
     "name": "stdout",
     "output_type": "stream",
     "text": [
      "FUNCTIONS DEFINED.\n"
     ]
    }
   ],
   "source": [
    "## Define TF Functions\n",
    "\n",
    "# EQUAL WEIGHTS\n",
    "weights = tf.ones([batch_size, sequence_length])\n",
    "seq_loss = tf.contrib.seq2seq.sequence_loss(\n",
    "    logits=outputs, targets=Y, weights=weights)\n",
    "loss = tf.reduce_mean(seq_loss)\n",
    "optm  = tf.train.AdamOptimizer(learning_rate=0.1).minimize(loss)\n",
    "print (\"FUNCTIONS DEFINED.\")"
   ]
  },
  {
   "cell_type": "code",
   "execution_count": 10,
   "metadata": {
    "ExecuteTime": {
     "end_time": "2019-01-16T07:24:49.749251Z",
     "start_time": "2019-01-16T07:24:43.226475Z"
    },
    "scrolled": true
   },
   "outputs": [
    {
     "name": "stdout",
     "output_type": "stream",
     "text": [
      "0 0 eitmmmmmmm 3.2195673\n",
      "0 1 aawwwwwwww 3.2195673\n",
      "0 2 pppmmmmllt 3.2195673\n",
      "0 3 swl'lllmml 3.2195673\n",
      "0 4 opyyyyywww 3.2195673\n",
      "0 5 slylmmmmmm 3.2195673\n",
      "0 6 pkccull''' 3.2195673\n",
      "0 7 bggl''''ww 3.2195673\n",
      "0 8 bgeeyywwww 3.2195673\n",
      "0 9 riipppppww 3.2195673\n",
      "0 10 i   wwbabb 3.2195673\n",
      "0 11 pw''dddddd 3.2195673\n",
      "0 12 oobmmmmmmm 3.2195673\n",
      "0 13 efionnowww 3.2195673\n",
      "0 14 oowwwwwwww 3.2195673\n",
      "0 15 .ikwwaaadp 3.2195673\n",
      "0 16 emmmmmmmmm 3.2195673\n",
      "0 17 opppbmmb,, 3.2195673\n",
      "0 18 opppbmmb,, 3.2195673\n",
      "0 19 wwwwnnnnnn 3.2195673\n",
      "100 0 t   t  t t 2.4361587\n",
      "100 1 ett tt   t 2.4361587\n",
      "100 2 t ttt tt   2.4361587\n",
      "100 3  t t  t t  2.4361587\n",
      "100 4 tt t t   t 2.4361587\n",
      "100 5 t  t  tt t 2.4361587\n",
      "100 6  t t  tt   2.4361587\n",
      "100 7 tt  t t t  2.4361587\n",
      "100 8 n t t  t t 2.4361587\n",
      "100 9 n  tt   t  2.4361587\n",
      "100 10     t t  t 2.4361587\n",
      "100 11 t tt t  tt 2.4361587\n",
      "100 12 t t t t tt 2.4361587\n",
      "100 13 ett tt   t 2.4361587\n",
      "100 14 n tt  t t  2.4361587\n",
      "100 15  t tt  t t 2.4361587\n",
      "100 16 n t t  t t 2.4361587\n",
      "100 17 nt t t t t 2.4361587\n",
      "100 18  t   tt    2.4361587\n",
      "100 19 o  t  t t  2.4361587\n",
      "200 0 owo d asd  1.4455621\n",
      "200 1 nher to do 1.4455621\n",
      "200 2 lterplesto 1.4455621\n",
      "200 3 owsssgn to 1.4455621\n",
      "200 4 n tosth th 1.4455621\n",
      "200 5 'toes thss 1.4455621\n",
      "200 6 tp derples 1.4455621\n",
      "200 7 oer tosto  1.4455621\n",
      "200 8 to eent do 1.4455621\n",
      "200 9 nsn tnd do 1.4455621\n",
      "200 10 tosth thes 1.4455621\n",
      "200 11  rp derple 1.4455621\n",
      "200 12 l sstn ess 1.4455621\n",
      "200 13 ndut d dnt 1.4455621\n",
      "200 14  rtnd esss 1.4455621\n",
      "200 15 sstn esssg 1.4455621\n",
      "200 16 tonfaont d 1.4455621\n",
      "200 17  r to do e 1.4455621\n",
      "200 18 o lent do  1.4455621\n",
      "200 19 ' don't ds 1.4455621\n",
      "300 0 t dss gn t 0.6882068\n",
      "300 1   the sndl 0.6882068\n",
      "300 2 s but tath 0.6882068\n",
      "300 3  t word an 0.6882068\n",
      "300 4  dn them t 0.6882068\n",
      "300 5 nher toach 0.6882068\n",
      "300 6  , but tat 0.6882068\n",
      "300 7   them tos 0.6882068\n",
      "300 8 eng cof th 0.6882068\n",
      "300 9  tof the e 0.6882068\n",
      "300 10  ch bong t 0.6882068\n",
      "300 11  her to bo 0.6882068\n",
      "300 12 nt ao k, b 0.6882068\n",
      "300 13  gont th b 0.6882068\n",
      "300 14 dthem tosk 0.6882068\n",
      "300 15 gmensity a 0.6882068\n",
      "300 16  ch bong t 0.6882068\n",
      "300 17 her to bon 0.6882068\n",
      "300 18  of the eh 0.6882068\n",
      "300 19 s but tath 0.6882068\n",
      "400 0 mt wood an 0.37197772\n",
      "400 1 her to lol 0.37197772\n",
      "400 2 tuild a sh 0.37197772\n",
      "400 3 ton't assi 0.37197772\n",
      "400 4 tp people  0.37197772\n",
      "400 5 h butld a  0.37197772\n",
      "400 6 ether to l 0.37197772\n",
      "400 7 to bong fo 0.37197772\n",
      "400 8 toip, don' 0.37197772\n",
      "400 9 ild a ship 0.37197772\n",
      "400 10 ton't assi 0.37197772\n",
      "400 11 o't assign 0.37197772\n",
      "400 12 o't assign 0.37197772\n",
      "400 13 sdy af the 0.37197772\n",
      "400 14 m to long  0.37197772\n",
      "400 15 l, don't a 0.37197772\n",
      "400 16 h bong for 0.37197772\n",
      "400 17 on't assig 0.37197772\n",
      "400 18 on't assig 0.37197772\n",
      "400 19 ild a ship 0.37197772\n"
     ]
    }
   ],
   "source": [
    "## Optimize / Train\n",
    "\n",
    "sess = tf.Session()\n",
    "sess.run(tf.global_variables_initializer())\n",
    "for i in range(500):\n",
    "    randidx = np.random.randint(low=0, high=ndata, size=batch_size)\n",
    "    batchX = [dataX[iii] for iii in randidx]\n",
    "    batchY = [dataY[iii] for iii in randidx]\n",
    "    feeds = {X: batchX, Y: batchY}\n",
    "    _, loss_val, results = sess.run(\n",
    "        [optm, loss, outputs], feed_dict=feeds)\n",
    "    if (i%100) == 0:\n",
    "        for j, result in enumerate(results):\n",
    "            index = np.argmax(result, axis=1)\n",
    "            print(i, j, ''.join([char_set[t] for t in index]), loss_val)"
   ]
  },
  {
   "cell_type": "code",
   "execution_count": 12,
   "metadata": {
    "ExecuteTime": {
     "end_time": "2019-01-16T07:25:44.083950Z",
     "start_time": "2019-01-16T07:25:43.991335Z"
    }
   },
   "outputs": [
    {
     "name": "stdout",
     "output_type": "stream",
     "text": [
      "Tensor(\"Placeholder_3:0\", shape=(?, 1), dtype=int32)\n"
     ]
    }
   ],
   "source": [
    "## Sampling Function\n",
    "LEN = 1;\n",
    "# XL = tf.placeholder(tf.int32, [None, LEN])\n",
    "XL     = tf.placeholder(tf.int32, [None, 1])\n",
    "XL_OH  = tf.one_hot(XL, num_classes)\n",
    "with tf.variable_scope('CHAR-RNN', reuse=True):\n",
    "    cell_L_1 = rnn.BasicLSTMCell(hidden_size, state_is_tuple=True)\n",
    "    cell_L_2 = rnn.BasicLSTMCell(hidden_size, state_is_tuple=True)\n",
    "    cell_L = rnn.MultiRNNCell([cell_L_1, cell_L_2], state_is_tuple=True)\n",
    "    istate = cell_L.zero_state(batch_size=1, dtype=tf.float32)\n",
    "    # DYNAMIC RNN WITH FULLY CONNECTED LAYER\n",
    "    _outputs_L, states_L = tf.nn.dynamic_rnn(cell_L, XL_OH\n",
    "                                , initial_state=istate, dtype=tf.float32)\n",
    "    _outputs_L  = tf.contrib.layers.fully_connected(\n",
    "        _outputs_L, num_classes, activation_fn=None)\n",
    "    # RESHAPE FOR SEQUNCE LOSS\n",
    "    outputs_L = tf.reshape(_outputs_L, [LEN, 1, num_classes])\n",
    "print (XL)"
   ]
  },
  {
   "cell_type": "code",
   "execution_count": 13,
   "metadata": {
    "ExecuteTime": {
     "end_time": "2019-01-16T07:25:53.701627Z",
     "start_time": "2019-01-16T07:25:53.632535Z"
    }
   },
   "outputs": [],
   "source": [
    "## Sample\n",
    "\n",
    "# BURNIN\n",
    "prime = \"if you \"\n",
    "istateval = sess.run(cell_L.zero_state(1, tf.float32))\n",
    "for c in prime[:-1]:\n",
    "    index = char_dic[c]\n",
    "    inval = [[index]]\n",
    "    outval, stateval = sess.run([outputs_L, states_L]\n",
    "                        , feed_dict={XL:inval, istate:istateval})\n",
    "    istateval = stateval"
   ]
  },
  {
   "cell_type": "code",
   "execution_count": 14,
   "metadata": {
    "ExecuteTime": {
     "end_time": "2019-01-16T07:26:02.525789Z",
     "start_time": "2019-01-16T07:26:01.683975Z"
    }
   },
   "outputs": [
    {
     "name": "stdout",
     "output_type": "stream",
     "text": [
      "SAMPLED SETENCE: \n",
      " if you don't drum up per together together together together together together together together together together together together together together together together together together together together together together together together together together together together together together together together together together together together together together together together together together together together together together together together together together together together together toget\n",
      "\n",
      "ORIGINAL SENTENCE: \n",
      " if you want to build a ship, don't drum up people together to collect wood and don't assign them tasks and work, but rather teach them to long for the endless immensity of the sea.\n"
     ]
    }
   ],
   "source": [
    "# SAMPLE\n",
    "inval  = [[char_dic[prime[-1]]]]\n",
    "outval, stateval = sess.run([outputs_L, states_L]\n",
    "                    , feed_dict={XL:inval, istate:istateval})\n",
    "index = np.argmax(outval)\n",
    "char  = char_set[index]\n",
    "chars = ''\n",
    "for i in range(500):\n",
    "    inval = [[index]]\n",
    "    outval, stateval = sess.run([outputs_L, states_L]\n",
    "                        , feed_dict={XL:inval, istate:istateval})\n",
    "    istateval = stateval\n",
    "    index = np.argmax(outval)\n",
    "    char  = char_set[index]\n",
    "    chars += char\n",
    "\n",
    "print (\"SAMPLED SETENCE: \\n %s\" % (prime+chars))\n",
    "print (\"\\nORIGINAL SENTENCE: \\n %s\" % (sentence))"
   ]
  },
  {
   "cell_type": "code",
   "execution_count": null,
   "metadata": {},
   "outputs": [],
   "source": []
  }
 ],
 "metadata": {
  "kernelspec": {
   "display_name": "Python 3",
   "language": "python",
   "name": "python3"
  },
  "language_info": {
   "codemirror_mode": {
    "name": "ipython",
    "version": 3
   },
   "file_extension": ".py",
   "mimetype": "text/x-python",
   "name": "python",
   "nbconvert_exporter": "python",
   "pygments_lexer": "ipython3",
   "version": "3.6.7"
  },
  "latex_envs": {
   "LaTeX_envs_menu_present": true,
   "autoclose": false,
   "autocomplete": true,
   "bibliofile": "biblio.bib",
   "cite_by": "apalike",
   "current_citInitial": 1,
   "eqLabelWithNumbers": true,
   "eqNumInitial": 1,
   "hotkeys": {
    "equation": "Ctrl-E",
    "itemize": "Ctrl-I"
   },
   "labels_anchors": false,
   "latex_user_defs": false,
   "report_style_numbering": false,
   "user_envs_cfg": false
  },
  "toc": {
   "base_numbering": 1,
   "nav_menu": {},
   "number_sections": true,
   "sideBar": true,
   "skip_h1_title": false,
   "title_cell": "Table of Contents",
   "title_sidebar": "Contents",
   "toc_cell": false,
   "toc_position": {},
   "toc_section_display": true,
   "toc_window_display": false
  },
  "varInspector": {
   "cols": {
    "lenName": 16,
    "lenType": 16,
    "lenVar": 40
   },
   "kernels_config": {
    "python": {
     "delete_cmd_postfix": "",
     "delete_cmd_prefix": "del ",
     "library": "var_list.py",
     "varRefreshCmd": "print(var_dic_list())"
    },
    "r": {
     "delete_cmd_postfix": ") ",
     "delete_cmd_prefix": "rm(",
     "library": "var_list.r",
     "varRefreshCmd": "cat(var_dic_list()) "
    }
   },
   "types_to_exclude": [
    "module",
    "function",
    "builtin_function_or_method",
    "instance",
    "_Feature"
   ],
   "window_display": false
  }
 },
 "nbformat": 4,
 "nbformat_minor": 2
}
